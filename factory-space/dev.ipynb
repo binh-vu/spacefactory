{
 "cells": [
  {
   "cell_type": "code",
   "execution_count": 2,
   "metadata": {},
   "outputs": [],
   "source": [
    "import os\n",
    "from rdflib import Graph\n",
    "from pathlib import Path\n",
    "from fins.dag import *\n",
    "import pandas as pd"
   ]
  },
  {
   "cell_type": "code",
   "execution_count": 19,
   "metadata": {},
   "outputs": [
    {
     "name": "stdout",
     "output_type": "stream",
     "text": [
      "workspace/projects/spacefactory/factory-space/inspace-economy/output/human-spaceflight/data.ttl\n",
      "workspace/projects/spacefactory/factory-space/inspace-economy/output/in-space-manufacturing/data.ttl\n",
      "workspace/projects/spacefactory/factory-space/inspace-economy/output/surface-habitats/data.ttl\n",
      "workspace/projects/spacefactory/factory-space/inspace-economy/output/in-space-transportation/data.ttl\n",
      "workspace/projects/spacefactory/factory-space/inspace-economy/output/space-utilities/data.ttl\n",
      "workspace/projects/spacefactory/factory-space/inspace-economy/output/miscellaneous/data.ttl\n",
      "workspace/projects/spacefactory/factory-space/inspace-economy/output/space-stations/data.ttl\n",
      "workspace/projects/spacefactory/factory-space/inspace-economy/output/cargo-transportation/data.ttl\n",
      "workspace/projects/spacefactory/factory-space/inspace-economy/output/space-resources/data.ttl\n",
      "workspace/projects/spacefactory/factory-space/inspace-economy/output/surface-spacecraft/data.ttl\n",
      "workspace/projects/spacefactory/factory-space/extracted-pages/output/reentry-vehicles/data.ttl\n",
      "workspace/projects/spacefactory/factory-space/extracted-pages/output/beyond-leo-remote-sensing/data.ttl\n",
      "workspace/projects/spacefactory/factory-space/extracted-pages/output/space-elevator/data.ttl\n",
      "workspace/projects/spacefactory/factory-space/extracted-pages/output/geoengineering/data.ttl\n",
      "workspace/projects/spacefactory/factory-space/extracted-pages/output/propellant-refilling/data.ttl\n",
      "workspace/projects/spacefactory/factory-space/extracted-pages/output/space-tourism/data.ttl\n",
      "workspace/projects/spacefactory/factory-space/extracted-pages/output/space-entertainment/data.ttl\n",
      "workspace/projects/spacefactory/factory-space/extracted-pages/output/power-beaming/data.ttl\n",
      "workspace/projects/spacefactory/factory-space/extracted-pages/output/space-solar-power/data.ttl\n",
      "workspace/projects/spacefactory/factory-space/inspace-manufacturing/output/ism-space-food/data.ttl\n",
      "workspace/projects/spacefactory/factory-space/inspace-manufacturing/output/ism-biotechnology/data.ttl\n",
      "workspace/projects/spacefactory/factory-space/inspace-manufacturing/output/ism-microfabricated-goods/data.ttl\n",
      "workspace/projects/spacefactory/factory-space/inspace-manufacturing/output/ism-advanced-materials/data.ttl\n",
      "workspace/projects/spacefactory/factory-space/inspace-manufacturing/output/ism-novelty-goods/data.ttl\n",
      "workspace/projects/spacefactory/factory-space/inspace-manufacturing/output/ism-pure-substances/data.ttl\n",
      "workspace/projects/spacefactory/factory-space/inspace-manufacturing/output/ism-large-structures/data.ttl\n"
     ]
    }
   ],
   "source": [
    "cwd = Path(\"~/workspace/projects/spacefactory/factory-space\").expanduser().resolve()\n",
    "\n",
    "graph = Graph()\n",
    "for file_path in Path(cwd).rglob(\"*/*.ttl\"):\n",
    "    print(file_path.relative_to(file_path.home()))\n",
    "    graph.parse(file_path.as_posix(), format=\"turtle\")"
   ]
  },
  {
   "cell_type": "code",
   "execution_count": 20,
   "metadata": {},
   "outputs": [],
   "source": [
    "for s, p, o in graph:\n",
    "    if p == Space.parent_category:\n",
    "        graph.remove((s, p, o))\n",
    "        graph.add((o, Space.sub_category, s))"
   ]
  },
  {
   "cell_type": "code",
   "execution_count": 21,
   "metadata": {},
   "outputs": [
    {
     "data": {
      "text/plain": [
       "<Graph identifier=N94e86253bff64ac6a6e06be956cf8f6a (<class 'rdflib.graph.Graph'>)>"
      ]
     },
     "execution_count": 21,
     "metadata": {},
     "output_type": "execute_result"
    }
   ],
   "source": [
    "graph.serialize(destination=cwd / \"factory-space.ttl\", format=\"turtle\")"
   ]
  },
  {
   "cell_type": "code",
   "execution_count": 23,
   "metadata": {},
   "outputs": [
    {
     "data": {
      "text/plain": [
       "<Graph identifier=N94e86253bff64ac6a6e06be956cf8f6a (<class 'rdflib.graph.Graph'>)>"
      ]
     },
     "execution_count": 23,
     "metadata": {},
     "output_type": "execute_result"
    }
   ],
   "source": [
    "graph.serialize(\n",
    "    destination=cwd / \"factory-space.nt\", format=\"ntriples\", encoding=\"utf-8\"\n",
    ")"
   ]
  },
  {
   "cell_type": "code",
   "execution_count": 25,
   "metadata": {},
   "outputs": [],
   "source": [
    "query = \"\"\"\n",
    "PREFIX space: <%s>\n",
    "PREFIX rdfs: <http://www.w3.org/2000/01/rdf-schema#>\n",
    "\n",
    "SELECT DISTINCT *\n",
    "WHERE {\n",
    "    ?company a space:Company ;\n",
    "        space:url ?url .\n",
    "}\n",
    "\"\"\" % (\n",
    "    kgns.prefix2ns[\"space\"]\n",
    ")\n",
    "\n",
    "results = graph.query(query)\n",
    "\n",
    "# Convert SPARQL results to a list of dictionaries\n",
    "data = []\n",
    "for row in results:\n",
    "    data.append(\n",
    "        {\n",
    "            \"company\": str(row[\"company\"]),\n",
    "            \"url\": str(row[\"url\"]),\n",
    "        }\n",
    "    )\n",
    "\n",
    "# Create a DataFrame from the list of dictionaries\n",
    "df = pd.DataFrame(data)\n",
    "df.to_csv(\n",
    "    cwd / \"companies.csv\",\n",
    "    index=False,\n",
    "    header=[\"company\", \"url\"],\n",
    ")"
   ]
  },
  {
   "cell_type": "code",
   "execution_count": 26,
   "metadata": {},
   "outputs": [],
   "source": [
    "query = \"\"\"\n",
    "PREFIX space: <%s>\n",
    "PREFIX rdfs: <http://www.w3.org/2000/01/rdf-schema#>\n",
    "\n",
    "SELECT DISTINCT *\n",
    "WHERE {\n",
    "    ?cat a space:Category .\n",
    "    ?cat rdfs:label ?cat_label .\n",
    "    OPTIONAL { ?cat rdfs:comment ?cat_comment . }\n",
    "\n",
    "    OPTIONAL {\n",
    "        ?parent_cat space:sub_category ?cat .\n",
    "        ?parent_cat rdfs:label ?parent_cat_label .\n",
    "    }\n",
    "}\n",
    "\"\"\" % (\n",
    "    kgns.prefix2ns[\"space\"]\n",
    ")\n",
    "\n",
    "results = graph.query(query)"
   ]
  },
  {
   "cell_type": "code",
   "execution_count": 27,
   "metadata": {},
   "outputs": [],
   "source": [
    "# Convert SPARQL results to a list of dictionaries\n",
    "data = []\n",
    "for row in results:\n",
    "    data.append(\n",
    "        {\n",
    "            \"cat_label\": str(row.cat_label),\n",
    "            \"cat_comment\": str(row.cat_comment) if row.cat_comment else None,\n",
    "            \"parent_cat_label\": (\n",
    "                str(row.parent_cat_label) if row.parent_cat_label else None\n",
    "            ),\n",
    "        }\n",
    "    )\n",
    "\n",
    "# Create a DataFrame from the list of dictionaries\n",
    "df = pd.DataFrame(data)\n",
    "\n",
    "# Group the parent_cat_label by cat_label and merge them into an array\n",
    "df_grouped = (\n",
    "    df.groupby(\"cat_label\")[\"parent_cat_label\"]\n",
    "    .apply(lambda x: \", \".join(x.dropna().unique().tolist()))\n",
    "    .reset_index()\n",
    ")\n",
    "df_grouped.columns = [\"cat_label\", \"parent_cat_labels\"]\n",
    "\n",
    "# # Merge the grouped dataframe with the original dataframe to get the cat_comment column\n",
    "df_merged = pd.merge(\n",
    "    df_grouped,\n",
    "    df[[\"cat_label\", \"cat_comment\"]].drop_duplicates(),\n",
    "    on=\"cat_label\",\n",
    "    how=\"left\",\n",
    ")\n",
    "\n",
    "df_merged.to_csv(cwd / \"grouped_categories.csv\", index=False)\n",
    "# df_grouped.to_csv(cwd / \"grouped_categories.csv\", index=False)"
   ]
  },
  {
   "cell_type": "code",
   "execution_count": null,
   "metadata": {},
   "outputs": [],
   "source": []
  }
 ],
 "metadata": {
  "kernelspec": {
   "display_name": ".venv",
   "language": "python",
   "name": "python3"
  },
  "language_info": {
   "codemirror_mode": {
    "name": "ipython",
    "version": 3
   },
   "file_extension": ".py",
   "mimetype": "text/x-python",
   "name": "python",
   "nbconvert_exporter": "python",
   "pygments_lexer": "ipython3",
   "version": "3.12.10"
  }
 },
 "nbformat": 4,
 "nbformat_minor": 2
}
